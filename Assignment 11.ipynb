{
 "cells": [
  {
   "cell_type": "code",
   "execution_count": null,
   "id": "638c06bb",
   "metadata": {},
   "outputs": [],
   "source": [
    "1. Create an assert statement that throws an AssertionError if the variable spam is a negative\n",
    "integer."
   ]
  },
  {
   "cell_type": "code",
   "execution_count": 4,
   "id": "36aa1ebb",
   "metadata": {},
   "outputs": [
    {
     "name": "stdout",
     "output_type": "stream",
     "text": [
      "-23\n"
     ]
    },
    {
     "ename": "AssertionError",
     "evalue": "you have entered negative intiger",
     "output_type": "error",
     "traceback": [
      "\u001b[1;31m---------------------------------------------------------------------------\u001b[0m",
      "\u001b[1;31mAssertionError\u001b[0m                            Traceback (most recent call last)",
      "Input \u001b[1;32mIn [4]\u001b[0m, in \u001b[0;36m<module>\u001b[1;34m\u001b[0m\n\u001b[0;32m      1\u001b[0m spam\u001b[38;5;241m=\u001b[39m\u001b[38;5;28mint\u001b[39m(\u001b[38;5;28minput\u001b[39m())\n\u001b[1;32m----> 2\u001b[0m \u001b[38;5;28;01massert\u001b[39;00m spam\u001b[38;5;241m==\u001b[39m\u001b[38;5;28mint\u001b[39m ,\u001b[38;5;124m\"\u001b[39m\u001b[38;5;124myou have entered negative intiger\u001b[39m\u001b[38;5;124m\"\u001b[39m\n\u001b[0;32m      3\u001b[0m \u001b[38;5;28mprint\u001b[39m (spam)\n",
      "\u001b[1;31mAssertionError\u001b[0m: you have entered negative intiger"
     ]
    }
   ],
   "source": [
    "spam=int(input())\n",
    "assert spam==int ,\"you have entered negative intiger\"\n",
    "print (spam)"
   ]
  },
  {
   "cell_type": "code",
   "execution_count": null,
   "id": "9ad4574c",
   "metadata": {},
   "outputs": [],
   "source": [
    "2. Write an assert statement that triggers an AssertionError if the variables eggs and bacon contain\n",
    "strings that are the same as each other, even if their cases are different (that is, \"hello\" and \"hello\" are\n",
    "considered the same, and \"goodbye\" and \"GOODbye\" are also considered the same)."
   ]
  },
  {
   "cell_type": "code",
   "execution_count": 9,
   "id": "fa27dc38",
   "metadata": {},
   "outputs": [
    {
     "name": "stdout",
     "output_type": "stream",
     "text": [
      "enter the first inputgoodbye\n",
      "enter the second inputGOODBYE\n"
     ]
    },
    {
     "ename": "AssertionError",
     "evalue": "error you have intered same input ",
     "output_type": "error",
     "traceback": [
      "\u001b[1;31m---------------------------------------------------------------------------\u001b[0m",
      "\u001b[1;31mAssertionError\u001b[0m                            Traceback (most recent call last)",
      "Input \u001b[1;32mIn [9]\u001b[0m, in \u001b[0;36m<module>\u001b[1;34m\u001b[0m\n\u001b[0;32m      1\u001b[0m eggs\u001b[38;5;241m=\u001b[39m\u001b[38;5;28minput\u001b[39m (\u001b[38;5;124m\"\u001b[39m\u001b[38;5;124menter the first input\u001b[39m\u001b[38;5;124m\"\u001b[39m)\n\u001b[0;32m      2\u001b[0m bacon\u001b[38;5;241m=\u001b[39m\u001b[38;5;28minput\u001b[39m (\u001b[38;5;124m\"\u001b[39m\u001b[38;5;124menter the second input\u001b[39m\u001b[38;5;124m\"\u001b[39m)\n\u001b[1;32m----> 3\u001b[0m \u001b[38;5;28;01massert\u001b[39;00m eggs\u001b[38;5;241m==\u001b[39mbacon ,\u001b[38;5;124m\"\u001b[39m\u001b[38;5;124merror you have intered same input \u001b[39m\u001b[38;5;124m\"\u001b[39m\n\u001b[0;32m      5\u001b[0m \u001b[38;5;28;01massert\u001b[39;00m eggs\u001b[38;5;241m!=\u001b[39mbacon ,\u001b[38;5;124m\"\u001b[39m\u001b[38;5;124merror you have inserted same input but cases is different\u001b[39m\u001b[38;5;124m\"\u001b[39m\n",
      "\u001b[1;31mAssertionError\u001b[0m: error you have intered same input "
     ]
    }
   ],
   "source": [
    "eggs=input (\"enter the first input\")\n",
    "bacon=input (\"enter the second input\")\n",
    "assert eggs==bacon ,\"error you have intered same input \"\n",
    "\n",
    "assert eggs!=bacon ,\"error you have inserted same input but cases is different\""
   ]
  },
  {
   "cell_type": "code",
   "execution_count": null,
   "id": "b9b8e893",
   "metadata": {},
   "outputs": [],
   "source": [
    "3. Create an assert statement that throws an AssertionError every time."
   ]
  },
  {
   "cell_type": "code",
   "execution_count": null,
   "id": "737db14b",
   "metadata": {},
   "outputs": [],
   "source": [
    "assert function ,\"erorr \""
   ]
  },
  {
   "cell_type": "code",
   "execution_count": null,
   "id": "fd3d239a",
   "metadata": {},
   "outputs": [],
   "source": [
    "4. What are the two lines that must be present in your software in order to call logging.debug()?\n"
   ]
  },
  {
   "cell_type": "code",
   "execution_count": null,
   "id": "6b9b19ff",
   "metadata": {},
   "outputs": [],
   "source": [
    "Ans- import logging \n",
    "logging.basicConfig(filename=\"programlogging.txt\",level=\"DEBUG\", format='%(asctime)s,%(levelname)s,%(message)s')"
   ]
  },
  {
   "cell_type": "code",
   "execution_count": null,
   "id": "b312da5a",
   "metadata": {},
   "outputs": [],
   "source": [
    "5. What are the two lines that your program must have in order to have logging.debug() send a\n",
    "logging message to a file named programLog.txt?\n",
    "\n"
   ]
  },
  {
   "cell_type": "code",
   "execution_count": null,
   "id": "f537a709",
   "metadata": {},
   "outputs": [],
   "source": [
    "import logging \n",
    "logging.basicConfig(filename=\"programlogging.txt\",level=\"DEBUG\", format='%(asctime)s,%(levelname)s,%(message)s')"
   ]
  },
  {
   "cell_type": "code",
   "execution_count": null,
   "id": "de17a901",
   "metadata": {},
   "outputs": [],
   "source": [
    "6. What are the five levels of logging?\n",
    "\n"
   ]
  },
  {
   "cell_type": "code",
   "execution_count": null,
   "id": "e2a8002c",
   "metadata": {},
   "outputs": [],
   "source": [
    "Ans- debug<info<warning<error<critical"
   ]
  },
  {
   "cell_type": "code",
   "execution_count": null,
   "id": "322c64ab",
   "metadata": {},
   "outputs": [],
   "source": [
    "7. What line of code would you add to your software to disable all logging messages?"
   ]
  },
  {
   "cell_type": "code",
   "execution_count": null,
   "id": "eb923f3c",
   "metadata": {},
   "outputs": [],
   "source": [
    "Ans- logging.disable(logging.DEBUG)"
   ]
  },
  {
   "cell_type": "code",
   "execution_count": null,
   "id": "4641ebc8",
   "metadata": {},
   "outputs": [],
   "source": [
    "8.Why is using logging messages better than using print() to display the same message?\n"
   ]
  },
  {
   "cell_type": "code",
   "execution_count": null,
   "id": "b0530eca",
   "metadata": {},
   "outputs": [],
   "source": [
    "Ans- logging message privide the complite information of the program execution and \n",
    "we have provision of set the level of logging in the logging message by selecting info, debug, warring , error."
   ]
  },
  {
   "cell_type": "code",
   "execution_count": null,
   "id": "0dab29a4",
   "metadata": {},
   "outputs": [],
   "source": [
    "9. What are the differences between the Step Over, Step In, and Step Out buttons in the debugger?\n",
    " "
   ]
  },
  {
   "cell_type": "code",
   "execution_count": null,
   "id": "6c71624d",
   "metadata": {},
   "outputs": [],
   "source": [
    "Ans-The Step button will move the debugger into a function call.\n",
    "    The Over button will quickly execute the function call without stepping into it. \n",
    "    The Out button will quickly execute the rest of the code until it steps out of the function it currently is in."
   ]
  },
  {
   "cell_type": "code",
   "execution_count": null,
   "id": "b48607ec",
   "metadata": {},
   "outputs": [],
   "source": [
    "10.After you click Continue, when will the debugger stop ?\n"
   ]
  },
  {
   "cell_type": "code",
   "execution_count": null,
   "id": "47ac9052",
   "metadata": {},
   "outputs": [],
   "source": [
    "Ans- After clicking on continue , debugger stop untill current loop or program will not exhausted ."
   ]
  },
  {
   "cell_type": "code",
   "execution_count": null,
   "id": "84b754b0",
   "metadata": {},
   "outputs": [],
   "source": [
    "11. What is the concept of a breakpoint?\n"
   ]
  },
  {
   "cell_type": "code",
   "execution_count": null,
   "id": "70295156",
   "metadata": {},
   "outputs": [],
   "source": [
    "Ans- A Ans-breakpoint is an in built function in pythone  that help  the debugger to pause when the program execution reaches the line."
   ]
  }
 ],
 "metadata": {
  "kernelspec": {
   "display_name": "Python 3 (ipykernel)",
   "language": "python",
   "name": "python3"
  },
  "language_info": {
   "codemirror_mode": {
    "name": "ipython",
    "version": 3
   },
   "file_extension": ".py",
   "mimetype": "text/x-python",
   "name": "python",
   "nbconvert_exporter": "python",
   "pygments_lexer": "ipython3",
   "version": "3.10.2"
  }
 },
 "nbformat": 4,
 "nbformat_minor": 5
}
