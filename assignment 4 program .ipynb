{
 "cells": [
  {
   "cell_type": "code",
   "execution_count": null,
   "id": "22a5185f",
   "metadata": {},
   "outputs": [],
   "source": [
    "1. Write a Python Program to Find the Factorial of a Number?"
   ]
  },
  {
   "cell_type": "code",
   "execution_count": 17,
   "id": "fb4b942f",
   "metadata": {},
   "outputs": [],
   "source": [
    "def factorials(a):\n",
    "    f=1\n",
    "    for i in range (1,(a+1)):\n",
    "        f=f*i\n",
    "    print (\"Factorial of\" ,a, \"is\", f)\n",
    "        "
   ]
  },
  {
   "cell_type": "code",
   "execution_count": 18,
   "id": "f6ea6802",
   "metadata": {},
   "outputs": [
    {
     "name": "stdout",
     "output_type": "stream",
     "text": [
      "45\n",
      "Factorial of 45 is 119622220865480194561963161495657715064383733760000000000\n"
     ]
    }
   ],
   "source": [
    "a=int(input ())\n",
    "factorials(a)\n"
   ]
  },
  {
   "cell_type": "code",
   "execution_count": null,
   "id": "1e9583aa",
   "metadata": {},
   "outputs": [],
   "source": [
    "2. Write a Python Program to Display the multiplication Table?"
   ]
  },
  {
   "cell_type": "code",
   "execution_count": 17,
   "id": "4d451197",
   "metadata": {},
   "outputs": [],
   "source": [
    "def multiplication(b) :\n",
    "    count=[]\n",
    "    flag =1\n",
    "    while flag<11:\n",
    "        result= b*flag\n",
    "        flag=flag+1\n",
    "        count.append(result)\n",
    "    return (\"table of\",b, \"is\",count)\n",
    "    "
   ]
  },
  {
   "cell_type": "code",
   "execution_count": 18,
   "id": "f6d3cb72",
   "metadata": {},
   "outputs": [
    {
     "name": "stdout",
     "output_type": "stream",
     "text": [
      "3\n"
     ]
    },
    {
     "data": {
      "text/plain": [
       "('table of', 3, 'is', [3, 6, 9, 12, 15, 18, 21, 24, 27, 30])"
      ]
     },
     "execution_count": 18,
     "metadata": {},
     "output_type": "execute_result"
    }
   ],
   "source": [
    "b=int(input())\n",
    "multiplication(b)"
   ]
  },
  {
   "cell_type": "code",
   "execution_count": null,
   "id": "89e8975d",
   "metadata": {},
   "outputs": [],
   "source": [
    "3. Write a Python Program to Print the Fibonacci sequence?"
   ]
  },
  {
   "cell_type": "code",
   "execution_count": 44,
   "id": "475ab8be",
   "metadata": {},
   "outputs": [
    {
     "name": "stdout",
     "output_type": "stream",
     "text": [
      "0 1 1 2 3 5 8 13 21 34 "
     ]
    }
   ],
   "source": [
    "num=0\n",
    "num1=1\n",
    "if num<2:\n",
    "    print (num,end=\" \")\n",
    "    print(num1,end=\" \")\n",
    "while num<20:\n",
    "    su=num+num1\n",
    "    print (su,end=\" \")\n",
    "    num=num1\n",
    "    num1=su\n",
    "    "
   ]
  },
  {
   "cell_type": "code",
   "execution_count": null,
   "id": "c746013a",
   "metadata": {},
   "outputs": [],
   "source": [
    "4. Write a Python Program to Check Armstrong Number?"
   ]
  },
  {
   "cell_type": "code",
   "execution_count": 99,
   "id": "aa75f59d",
   "metadata": {},
   "outputs": [
    {
     "name": "stdout",
     "output_type": "stream",
     "text": [
      "1\n",
      "1 is armstrong number\n"
     ]
    }
   ],
   "source": [
    "a=(input())\n",
    "su=0\n",
    "for i in a:\n",
    "    i=int(i)\n",
    "    result=i**len(a)\n",
    "    su=su+result\n",
    "    \n",
    "a=int(a)\n",
    "if a==su:\n",
    "    print (a,\"is armstrong number\")\n",
    "else:\n",
    "    print (a,\"is not armstrong number\")"
   ]
  },
  {
   "cell_type": "code",
   "execution_count": null,
   "id": "ffddc378",
   "metadata": {},
   "outputs": [],
   "source": [
    "5. Write a Python Program to Find Armstrong Number in an Interval"
   ]
  },
  {
   "cell_type": "code",
   "execution_count": 15,
   "id": "a664f9f0",
   "metadata": {},
   "outputs": [
    {
     "name": "stdout",
     "output_type": "stream",
     "text": [
      "1\n",
      "500\n",
      "[1, 2, 3, 4, 5, 6, 7, 8, 9, 153, 370, 371, 407]\n"
     ]
    }
   ],
   "source": [
    "A=int(input())\n",
    "B=int(input())\n",
    "\n",
    "l=[]\n",
    "for i in range(A, B+1):\n",
    "   order = len(str(i))\n",
    "   sum1 = 0\n",
    "   copy_i = i\n",
    "   while copy_i > 0:\n",
    "       su = copy_i % 10\n",
    "       sum1=sum1+su ** order\n",
    "       copy_i //= 10\n",
    "   if i == sum1:\n",
    "       l.append(i)\n",
    "print(l)"
   ]
  },
  {
   "cell_type": "code",
   "execution_count": null,
   "id": "8894a93c",
   "metadata": {},
   "outputs": [],
   "source": [
    "6. Write a Python Program to Find the Sum of Natural Numbers?"
   ]
  },
  {
   "cell_type": "code",
   "execution_count": 25,
   "id": "e88a629a",
   "metadata": {},
   "outputs": [],
   "source": [
    "def sum_of_natual_number(n):\n",
    "    num=n\n",
    "    add=0\n",
    "    while (n>0):\n",
    "        add=add+n\n",
    "        n=n-1\n",
    "    return (\"The sum of natual number \",num, \"is\",add)"
   ]
  },
  {
   "cell_type": "code",
   "execution_count": 27,
   "id": "f0e02f5c",
   "metadata": {},
   "outputs": [
    {
     "name": "stdout",
     "output_type": "stream",
     "text": [
      "45\n"
     ]
    },
    {
     "data": {
      "text/plain": [
       "('The sum of natual number ', 45, 'is', 1035)"
      ]
     },
     "execution_count": 27,
     "metadata": {},
     "output_type": "execute_result"
    }
   ],
   "source": [
    "n=int(input())\n",
    "sum_of_natual_number(n)"
   ]
  },
  {
   "cell_type": "code",
   "execution_count": null,
   "id": "cd99a76f",
   "metadata": {},
   "outputs": [],
   "source": []
  }
 ],
 "metadata": {
  "kernelspec": {
   "display_name": "Python 3 (ipykernel)",
   "language": "python",
   "name": "python3"
  },
  "language_info": {
   "codemirror_mode": {
    "name": "ipython",
    "version": 3
   },
   "file_extension": ".py",
   "mimetype": "text/x-python",
   "name": "python",
   "nbconvert_exporter": "python",
   "pygments_lexer": "ipython3",
   "version": "3.10.2"
  }
 },
 "nbformat": 4,
 "nbformat_minor": 5
}
