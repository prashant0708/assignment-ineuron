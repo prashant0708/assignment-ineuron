{
 "cells": [
  {
   "cell_type": "code",
   "execution_count": null,
   "id": "2308b992",
   "metadata": {},
   "outputs": [],
   "source": [
    "1. How do you distinguish between shutil.copy() and shutil.copytree()?"
   ]
  },
  {
   "cell_type": "code",
   "execution_count": null,
   "id": "0c2eb404",
   "metadata": {},
   "outputs": [],
   "source": [
    "Ans-copy() function will copy a single file, while shutil. copytree() will copy an entire folder, along with all its contents. "
   ]
  },
  {
   "cell_type": "code",
   "execution_count": null,
   "id": "b8100316",
   "metadata": {},
   "outputs": [],
   "source": [
    "2. What function is used to rename files??"
   ]
  },
  {
   "cell_type": "code",
   "execution_count": null,
   "id": "d77bc8af",
   "metadata": {},
   "outputs": [],
   "source": [
    "Ans- rename() method in Python is used to rename a file or directory."
   ]
  },
  {
   "cell_type": "code",
   "execution_count": null,
   "id": "53acf2c2",
   "metadata": {},
   "outputs": [],
   "source": [
    "3. What is the difference between the delete functions in the send2trash and shutil modules?"
   ]
  },
  {
   "cell_type": "code",
   "execution_count": null,
   "id": "9de35a65",
   "metadata": {},
   "outputs": [],
   "source": [
    "Ans-The send2trash functions will move a file or folder to the recycle bin, \n",
    "while shutil functions will permanently delete files and folders."
   ]
  },
  {
   "cell_type": "code",
   "execution_count": null,
   "id": "c37b64d4",
   "metadata": {},
   "outputs": [],
   "source": [
    "4.ZipFile objects have a close() method just like File objects’ close() method. What ZipFile method is\n",
    "equivalent to File objects’ open() method?"
   ]
  },
  {
   "cell_type": "code",
   "execution_count": null,
   "id": "a744447d",
   "metadata": {},
   "outputs": [],
   "source": [
    "Ans- ZipFile objects have a close() method just like File objects’ close() method. What ZipFile method is\n",
    "equivalent to File objects’ open() method?"
   ]
  },
  {
   "cell_type": "code",
   "execution_count": null,
   "id": "fd74f27a",
   "metadata": {},
   "outputs": [],
   "source": [
    "5. Create a programme that searches a folder tree for files with a certain file extension (such as .pdf\n",
    "or .jpg). Copy these files from whatever location they are in to a new folder."
   ]
  },
  {
   "cell_type": "code",
   "execution_count": 75,
   "id": "fa1c701f",
   "metadata": {},
   "outputs": [],
   "source": [
    "import os \n",
    "import shutil"
   ]
  },
  {
   "cell_type": "code",
   "execution_count": 76,
   "id": "e1ad5a88",
   "metadata": {},
   "outputs": [],
   "source": [
    "src=\"D:\\source\""
   ]
  },
  {
   "cell_type": "code",
   "execution_count": 77,
   "id": "4ac23368",
   "metadata": {},
   "outputs": [],
   "source": [
    "dst=\"D:\\destination\""
   ]
  },
  {
   "cell_type": "code",
   "execution_count": 82,
   "id": "38b8b59f",
   "metadata": {},
   "outputs": [],
   "source": [
    "file=os.listdir(src)"
   ]
  },
  {
   "cell_type": "code",
   "execution_count": 83,
   "id": "9f8b83eb",
   "metadata": {},
   "outputs": [
    {
     "data": {
      "text/plain": [
       "['NC22-06.pdf',\n",
       " 'PR05-IT indoor-03 - Refrigeration tray wiring indoor converter (K-1529888).pdf']"
      ]
     },
     "execution_count": 83,
     "metadata": {},
     "output_type": "execute_result"
    }
   ],
   "source": [
    "file"
   ]
  },
  {
   "cell_type": "code",
   "execution_count": 84,
   "id": "dbc7f5b8",
   "metadata": {},
   "outputs": [],
   "source": [
    "for f in file:\n",
    "    shutil.copy(f,dst)"
   ]
  },
  {
   "cell_type": "code",
   "execution_count": null,
   "id": "0af43172",
   "metadata": {},
   "outputs": [],
   "source": []
  }
 ],
 "metadata": {
  "kernelspec": {
   "display_name": "Python 3 (ipykernel)",
   "language": "python",
   "name": "python3"
  },
  "language_info": {
   "codemirror_mode": {
    "name": "ipython",
    "version": 3
   },
   "file_extension": ".py",
   "mimetype": "text/x-python",
   "name": "python",
   "nbconvert_exporter": "python",
   "pygments_lexer": "ipython3",
   "version": "3.10.2"
  }
 },
 "nbformat": 4,
 "nbformat_minor": 5
}
