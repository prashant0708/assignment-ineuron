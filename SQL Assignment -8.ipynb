{
 "cells": [
  {
   "cell_type": "markdown",
   "id": "72275ba1",
   "metadata": {},
   "source": [
    "## Q-15. Write an SQL query to fetch intersecting records of two tables."
   ]
  },
  {
   "cell_type": "code",
   "execution_count": null,
   "id": "669852b8",
   "metadata": {},
   "outputs": [],
   "source": [
    "Intersection means finding the common result b/w two query , Some important fact in intersect are number of columns and data type \n",
    "must be same in both the Select statement.\n",
    "\n",
    "Select Employee_name , Salary from employees\n",
    "intersect \n",
    "select Employee_name , salary from department"
   ]
  },
  {
   "cell_type": "markdown",
   "id": "bee0ea47",
   "metadata": {},
   "source": [
    "## Q-16. Write an SQL query to show records from one table that another table does not have."
   ]
  },
  {
   "cell_type": "code",
   "execution_count": null,
   "id": "c5f1d30b",
   "metadata": {},
   "outputs": [],
   "source": [
    "Select t1.* from Table1 as t1\n",
    "left join table2 as t2\n",
    "where t1.id!=t2.id"
   ]
  }
 ],
 "metadata": {
  "kernelspec": {
   "display_name": "Python 3 (ipykernel)",
   "language": "python",
   "name": "python3"
  },
  "language_info": {
   "codemirror_mode": {
    "name": "ipython",
    "version": 3
   },
   "file_extension": ".py",
   "mimetype": "text/x-python",
   "name": "python",
   "nbconvert_exporter": "python",
   "pygments_lexer": "ipython3",
   "version": "3.10.9"
  }
 },
 "nbformat": 4,
 "nbformat_minor": 5
}
