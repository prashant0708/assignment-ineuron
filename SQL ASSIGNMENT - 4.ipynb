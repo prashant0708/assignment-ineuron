{
 "cells": [
  {
   "cell_type": "markdown",
   "id": "4f7d35f1",
   "metadata": {},
   "source": [
    "Q-1. Write an SQL query to print the FIRST_NAME from Worker table after replacing ‘a’ with ‘A’."
   ]
  },
  {
   "cell_type": "markdown",
   "id": "51e40081",
   "metadata": {},
   "source": [
    "Select REPLACE(FIRST_NAME,'a','A') as First_Name from worker;"
   ]
  },
  {
   "cell_type": "markdown",
   "id": "8b4c7868",
   "metadata": {},
   "source": [
    "Q-2. Write an SQL query to print all Worker details from the Worker table order by FIRST_NAME Ascending and DEPARTMENT Descending."
   ]
  },
  {
   "cell_type": "code",
   "execution_count": null,
   "id": "5aa33507",
   "metadata": {},
   "outputs": [],
   "source": [
    "Select * from worker \n",
    "order by FIRST_NAME  asc ,DEPARTMENT desc"
   ]
  },
  {
   "cell_type": "markdown",
   "id": "65241747",
   "metadata": {},
   "source": [
    "Q-3. Write an SQL query to fetch the names of workers who earn the highest salary."
   ]
  },
  {
   "cell_type": "code",
   "execution_count": null,
   "id": "7b492c60",
   "metadata": {},
   "outputs": [],
   "source": [
    "Select Fist_Name from Worker \n",
    "where Salary=(select max(salary) from worker)"
   ]
  }
 ],
 "metadata": {
  "kernelspec": {
   "display_name": "Python 3 (ipykernel)",
   "language": "python",
   "name": "python3"
  },
  "language_info": {
   "codemirror_mode": {
    "name": "ipython",
    "version": 3
   },
   "file_extension": ".py",
   "mimetype": "text/x-python",
   "name": "python",
   "nbconvert_exporter": "python",
   "pygments_lexer": "ipython3",
   "version": "3.10.9"
  }
 },
 "nbformat": 4,
 "nbformat_minor": 5
}
