{
 "cells": [
  {
   "cell_type": "markdown",
   "id": "a9fd87ee",
   "metadata": {},
   "source": [
    "## Q-13. Write an SQL query to show only odd rows from a table."
   ]
  },
  {
   "cell_type": "code",
   "execution_count": null,
   "id": "13f884cb",
   "metadata": {},
   "outputs": [],
   "source": [
    "with cte as (SELECT *,ROW_NUMBER() OVER() AS row_numbers FROM MOVIESDB.MOVIES)\n",
    "select * from cte\n",
    "where mod(row_numbers,2)!=0"
   ]
  },
  {
   "cell_type": "markdown",
   "id": "bf50ba78",
   "metadata": {},
   "source": [
    "## Q-14. Write an SQL query to clone a new table from another table."
   ]
  },
  {
   "cell_type": "code",
   "execution_count": null,
   "id": "1250df27",
   "metadata": {},
   "outputs": [],
   "source": [
    "Create Table Prashant select * from employees"
   ]
  }
 ],
 "metadata": {
  "kernelspec": {
   "display_name": "Python 3 (ipykernel)",
   "language": "python",
   "name": "python3"
  },
  "language_info": {
   "codemirror_mode": {
    "name": "ipython",
    "version": 3
   },
   "file_extension": ".py",
   "mimetype": "text/x-python",
   "name": "python",
   "nbconvert_exporter": "python",
   "pygments_lexer": "ipython3",
   "version": "3.10.9"
  }
 },
 "nbformat": 4,
 "nbformat_minor": 5
}
