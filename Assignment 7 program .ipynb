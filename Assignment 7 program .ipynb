{
 "cells": [
  {
   "cell_type": "code",
   "execution_count": null,
   "id": "1994157e",
   "metadata": {},
   "outputs": [],
   "source": [
    "1. Write a Python Program to find sum of array?"
   ]
  },
  {
   "cell_type": "code",
   "execution_count": 3,
   "id": "6e83d69a",
   "metadata": {},
   "outputs": [
    {
     "name": "stdout",
     "output_type": "stream",
     "text": [
      "sum of array  [2, 3, 4, 5, 6, 7, 8, 56, 78] is 169\n"
     ]
    }
   ],
   "source": [
    "l=[2,3,4,5,6,7,8,56,78]\n",
    "add=0\n",
    "try:\n",
    "    for i in l:\n",
    "        add=add+i\n",
    "except Exception as e:\n",
    "    print(e)\n",
    "try:\n",
    "    print(\"sum of array \",l,\"is\" ,add)\n",
    "except Exception as f:\n",
    "    print(f)"
   ]
  },
  {
   "cell_type": "code",
   "execution_count": null,
   "id": "ef73a146",
   "metadata": {},
   "outputs": [],
   "source": [
    "2. Write a Python Program to find largest element in an array?"
   ]
  },
  {
   "cell_type": "code",
   "execution_count": 4,
   "id": "3761238d",
   "metadata": {},
   "outputs": [
    {
     "name": "stdout",
     "output_type": "stream",
     "text": [
      "78\n"
     ]
    }
   ],
   "source": [
    "l=[2,3,4,5,6,7,8,56,78]\n",
    "print(max(l))"
   ]
  },
  {
   "cell_type": "code",
   "execution_count": null,
   "id": "9ccd1e51",
   "metadata": {},
   "outputs": [],
   "source": [
    "3. Write a Python Program for array rotation?"
   ]
  },
  {
   "cell_type": "code",
   "execution_count": 9,
   "id": "8c4e3fe1",
   "metadata": {},
   "outputs": [
    {
     "name": "stdout",
     "output_type": "stream",
     "text": [
      "78 56 8 7 6 5 4 3 2 "
     ]
    }
   ],
   "source": [
    "l=[2,3,4,5,6,7,8,56,78]\n",
    "try:\n",
    "    for i in range(len(l)-1,-1,-1):\n",
    "        print(l[i],end=\" \")\n",
    "except Exception as f:\n",
    "    print(f)"
   ]
  },
  {
   "cell_type": "code",
   "execution_count": null,
   "id": "308f9e98",
   "metadata": {},
   "outputs": [],
   "source": [
    "4. Write a Python Program to Split the array and add the first part to the end?"
   ]
  },
  {
   "cell_type": "code",
   "execution_count": 32,
   "id": "652618a4",
   "metadata": {},
   "outputs": [
    {
     "name": "stdout",
     "output_type": "stream",
     "text": [
      "[3, 4, 5, 6, 7, 8, 56, 78, 2]\n"
     ]
    }
   ],
   "source": [
    "l=[2,3,4,5,6,7,8,56,78]\n",
    "l1=[]\n",
    "for i in range(len(l)):\n",
    "        if i==0:\n",
    "            c=l[i]\n",
    "        else :\n",
    "            l1.append(l[i])\n",
    "            \n",
    "l1.append(c)\n",
    "\n",
    "print (l1)"
   ]
  },
  {
   "cell_type": "code",
   "execution_count": null,
   "id": "567f65a1",
   "metadata": {},
   "outputs": [],
   "source": [
    "5. Write a Python Program to check if given array is  ?"
   ]
  },
  {
   "cell_type": "code",
   "execution_count": 36,
   "id": "59ba3d1d",
   "metadata": {},
   "outputs": [
    {
     "name": "stdout",
     "output_type": "stream",
     "text": [
      "True\n",
      "True\n",
      "False\n",
      "True\n",
      "True\n",
      "True\n",
      "True\n",
      "True\n",
      "True\n"
     ]
    }
   ],
   "source": [
    "l=[2,3,400,4,5,6,7,8,56,78]\n",
    "decrease=False \n",
    "if (l[0]>l[1]):\n",
    "    decrease=True\n",
    "for i in range (len(l)-1):\n",
    "    if (l[i]>l[i+1] and not decrease or l[i]<l[i+1] and decrease):\n",
    "            print (False)\n",
    "    else:\n",
    "        print(True)"
   ]
  },
  {
   "cell_type": "code",
   "execution_count": null,
   "id": "38dea307",
   "metadata": {},
   "outputs": [],
   "source": []
  }
 ],
 "metadata": {
  "kernelspec": {
   "display_name": "Python 3 (ipykernel)",
   "language": "python",
   "name": "python3"
  },
  "language_info": {
   "codemirror_mode": {
    "name": "ipython",
    "version": 3
   },
   "file_extension": ".py",
   "mimetype": "text/x-python",
   "name": "python",
   "nbconvert_exporter": "python",
   "pygments_lexer": "ipython3",
   "version": "3.10.2"
  }
 },
 "nbformat": 4,
 "nbformat_minor": 5
}
