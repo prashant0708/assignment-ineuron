{
 "cells": [
  {
   "cell_type": "markdown",
   "id": "f0fe9490",
   "metadata": {},
   "source": [
    "## Q-1. Write an SQL query to print the first three characters of  FIRST_NAME from Worker table."
   ]
  },
  {
   "cell_type": "markdown",
   "id": "1acb44b4",
   "metadata": {},
   "source": [
    "SELECT SUBSTRING(first_name,1,3) as First_name FROM Worker"
   ]
  },
  {
   "cell_type": "markdown",
   "id": "f682e824",
   "metadata": {},
   "source": [
    "## Q-2. Write an SQL query to find the position of the alphabet (‘a’) in the first name column ‘Amitabh’ from Worker table.\n"
   ]
  },
  {
   "cell_type": "markdown",
   "id": "89e65758",
   "metadata": {},
   "source": [
    "SELECT LOCATE(‘a’,Amitabh) FROM Worker"
   ]
  },
  {
   "cell_type": "markdown",
   "id": "22db5d27",
   "metadata": {},
   "source": [
    "## Q-3. Write an SQL query to print the name of employees having the highest salary in each department."
   ]
  },
  {
   "cell_type": "markdown",
   "id": "f390daf8",
   "metadata": {},
   "source": [
    "###### WITH CTE as(SELECT  Employee_Name,Department , ROUND(AVG(salary),2) as Highest_salary from employee \n",
    "            WHERE Salary in (select  DISTINCT MAX(Salary) over (partition by Department) from employee)group by 1,2)\n",
    "SELECT Employee_Name from CTE"
   ]
  },
  {
   "cell_type": "code",
   "execution_count": null,
   "id": "1d4db7cf",
   "metadata": {},
   "outputs": [],
   "source": []
  }
 ],
 "metadata": {
  "kernelspec": {
   "display_name": "Python 3 (ipykernel)",
   "language": "python",
   "name": "python3"
  },
  "language_info": {
   "codemirror_mode": {
    "name": "ipython",
    "version": 3
   },
   "file_extension": ".py",
   "mimetype": "text/x-python",
   "name": "python",
   "nbconvert_exporter": "python",
   "pygments_lexer": "ipython3",
   "version": "3.10.9"
  }
 },
 "nbformat": 4,
 "nbformat_minor": 5
}
