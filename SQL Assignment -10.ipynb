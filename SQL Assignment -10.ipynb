{
 "cells": [
  {
   "cell_type": "markdown",
   "id": "779be029",
   "metadata": {},
   "source": [
    "## Q-19. Write an SQL query to determine the 5th highest salary without using TOP or limit method.\n"
   ]
  },
  {
   "cell_type": "code",
   "execution_count": null,
   "id": "401fea65",
   "metadata": {},
   "outputs": [],
   "source": [
    "with cte as (Select Name, salary,row_number() over (partition by name order by salary desc) as ranks from employee)\n",
    "select * from cte\n",
    "where ranks=5;"
   ]
  },
  {
   "cell_type": "markdown",
   "id": "ba32e9f9",
   "metadata": {},
   "source": [
    "## Q-20. Write an SQL query to fetch the list of employees with the same salary.\n"
   ]
  },
  {
   "cell_type": "code",
   "execution_count": null,
   "id": "deaa9728",
   "metadata": {},
   "outputs": [],
   "source": [
    "Select  e1.employee_name as employee_Name  from employee as e1 \n",
    "join employees as e2\n",
    "where e1.employee_name!=e2employee_name\n",
    "and e1.salary=e2.salary"
   ]
  }
 ],
 "metadata": {
  "kernelspec": {
   "display_name": "Python 3 (ipykernel)",
   "language": "python",
   "name": "python3"
  },
  "language_info": {
   "codemirror_mode": {
    "name": "ipython",
    "version": 3
   },
   "file_extension": ".py",
   "mimetype": "text/x-python",
   "name": "python",
   "nbconvert_exporter": "python",
   "pygments_lexer": "ipython3",
   "version": "3.10.9"
  }
 },
 "nbformat": 4,
 "nbformat_minor": 5
}
