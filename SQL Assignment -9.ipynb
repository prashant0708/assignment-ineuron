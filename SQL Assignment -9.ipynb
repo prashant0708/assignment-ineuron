{
 "cells": [
  {
   "cell_type": "markdown",
   "id": "8fc4984e",
   "metadata": {},
   "source": [
    "## Q-17.  Write an SQL query to show the top n (say 10) records of a table."
   ]
  },
  {
   "cell_type": "code",
   "execution_count": null,
   "id": "074eefe8",
   "metadata": {},
   "outputs": [],
   "source": [
    "Select * from employees \n",
    "limit 10"
   ]
  },
  {
   "cell_type": "markdown",
   "id": "2678f71e",
   "metadata": {},
   "source": [
    "## Q-18. Write an SQL query to determine the nth (say n=5) highest salary from a table."
   ]
  },
  {
   "cell_type": "code",
   "execution_count": null,
   "id": "6d1fd91d",
   "metadata": {},
   "outputs": [],
   "source": [
    "with cte as (Select Name, salary,row_number() over (partition by name order by salary desc) as ranks from employee)\n",
    "select * from cte\n",
    "where ranks=5;"
   ]
  }
 ],
 "metadata": {
  "kernelspec": {
   "display_name": "Python 3 (ipykernel)",
   "language": "python",
   "name": "python3"
  },
  "language_info": {
   "codemirror_mode": {
    "name": "ipython",
    "version": 3
   },
   "file_extension": ".py",
   "mimetype": "text/x-python",
   "name": "python",
   "nbconvert_exporter": "python",
   "pygments_lexer": "ipython3",
   "version": "3.10.9"
  }
 },
 "nbformat": 4,
 "nbformat_minor": 5
}
