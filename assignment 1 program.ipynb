{
 "cells": [
  {
   "cell_type": "code",
   "execution_count": null,
   "id": "0dfa79f4",
   "metadata": {},
   "outputs": [],
   "source": [
    "1. Write a Python program to print \"Hello Python\"?\n"
   ]
  },
  {
   "cell_type": "code",
   "execution_count": 2,
   "id": "a3ac1c29",
   "metadata": {},
   "outputs": [
    {
     "name": "stdout",
     "output_type": "stream",
     "text": [
      "Hello Python\n"
     ]
    }
   ],
   "source": [
    "s=\"Hello Python\"\n",
    "\n",
    "print (s)"
   ]
  },
  {
   "cell_type": "code",
   "execution_count": null,
   "id": "b0f46472",
   "metadata": {},
   "outputs": [],
   "source": [
    "2. Write a Python program to do arithmetical operations addition and division.?\n"
   ]
  },
  {
   "cell_type": "code",
   "execution_count": 11,
   "id": "8bf83c89",
   "metadata": {},
   "outputs": [
    {
     "name": "stdout",
     "output_type": "stream",
     "text": [
      "enter value first value  25\n",
      "enter value second value 5\n",
      "addition of  25 and 5 is  30\n",
      "division of  25 and 5 is  5.0\n"
     ]
    }
   ],
   "source": [
    "a=int(input(\"enter value first value  \"))\n",
    "b=int(input(\"enter value second value \"))\n",
    "addition =a+b\n",
    "division=a/b\n",
    "print (\"addition of \" ,a ,\"and\" , b ,\"is \", addition )\n",
    "print (\"division of \" ,a ,\"and\" , b, \"is \", division)"
   ]
  },
  {
   "cell_type": "code",
   "execution_count": null,
   "id": "fc891379",
   "metadata": {},
   "outputs": [],
   "source": [
    "3. Write a Python program to find the area of a triangle?\n"
   ]
  },
  {
   "cell_type": "code",
   "execution_count": 12,
   "id": "f8740806",
   "metadata": {},
   "outputs": [],
   "source": [
    "def area_of_triangle (r):\n",
    "    pi=22/7\n",
    "    area=pi*r**2\n",
    "    return area"
   ]
  },
  {
   "cell_type": "code",
   "execution_count": 13,
   "id": "a45245b7",
   "metadata": {},
   "outputs": [
    {
     "data": {
      "text/plain": [
       "12.571428571428571"
      ]
     },
     "execution_count": 13,
     "metadata": {},
     "output_type": "execute_result"
    }
   ],
   "source": [
    "area_of_triangle (2)"
   ]
  },
  {
   "cell_type": "code",
   "execution_count": null,
   "id": "e49141f8",
   "metadata": {},
   "outputs": [],
   "source": [
    "4. Write a Python program to swap two variables?\n"
   ]
  },
  {
   "cell_type": "code",
   "execution_count": 16,
   "id": "32268a90",
   "metadata": {},
   "outputs": [
    {
     "name": "stdout",
     "output_type": "stream",
     "text": [
      "value of a after swaping [34, 67, 34, 'kumar']\n",
      "value of b after swaping [1, 2, 3, 4, 'prashant']\n"
     ]
    }
   ],
   "source": [
    "a=[1,2,3,4,\"prashant\"]\n",
    "b=[34,67,34,\"kumar\"]\n",
    "c=a\n",
    "a=b\n",
    "b=c\n",
    "\n",
    "print (\"value of a after swaping\",a)\n",
    "print(\"value of b after swaping\", b)"
   ]
  },
  {
   "cell_type": "code",
   "execution_count": null,
   "id": "715c5a2e",
   "metadata": {},
   "outputs": [],
   "source": [
    "5. Write a Python program to generate a random number?"
   ]
  },
  {
   "cell_type": "code",
   "execution_count": 30,
   "id": "11649d89",
   "metadata": {},
   "outputs": [
    {
     "name": "stdout",
     "output_type": "stream",
     "text": [
      "28\n"
     ]
    }
   ],
   "source": [
    "import random \n",
    "\n",
    "l= range(0,99)\n",
    "l1=[]\n",
    "for i in l :\n",
    "    l1.append(i)\n",
    "print (random.choice(l1))\n",
    "    "
   ]
  },
  {
   "cell_type": "code",
   "execution_count": null,
   "id": "4f2d2e2f",
   "metadata": {},
   "outputs": [],
   "source": []
  },
  {
   "cell_type": "code",
   "execution_count": null,
   "id": "167afb5a",
   "metadata": {},
   "outputs": [],
   "source": []
  }
 ],
 "metadata": {
  "kernelspec": {
   "display_name": "Python 3 (ipykernel)",
   "language": "python",
   "name": "python3"
  },
  "language_info": {
   "codemirror_mode": {
    "name": "ipython",
    "version": 3
   },
   "file_extension": ".py",
   "mimetype": "text/x-python",
   "name": "python",
   "nbconvert_exporter": "python",
   "pygments_lexer": "ipython3",
   "version": "3.10.2"
  }
 },
 "nbformat": 4,
 "nbformat_minor": 5
}
