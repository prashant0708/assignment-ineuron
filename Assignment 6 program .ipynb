{
 "cells": [
  {
   "cell_type": "code",
   "execution_count": null,
   "id": "b075a86a",
   "metadata": {},
   "outputs": [],
   "source": [
    "1. Write a Python Program to Display Fibonacci Sequence Using Recursion?"
   ]
  },
  {
   "cell_type": "code",
   "execution_count": 5,
   "id": "6b444f43",
   "metadata": {},
   "outputs": [],
   "source": [
    "def Fibo(a):\n",
    "\n",
    "    if a < 0:\n",
    "        print(\"Incorrect input\")\n",
    "    elif a == 0:\n",
    "        return 0\n",
    "\n",
    "    elif a == 1 or a == 2:\n",
    "        return 1\n",
    " \n",
    "    else:\n",
    "        return Fibo(a-1) + Fibo(a-2)"
   ]
  },
  {
   "cell_type": "code",
   "execution_count": 8,
   "id": "d19e5e4d",
   "metadata": {},
   "outputs": [
    {
     "data": {
      "text/plain": [
       "3"
      ]
     },
     "execution_count": 8,
     "metadata": {},
     "output_type": "execute_result"
    }
   ],
   "source": [
    "Fibo(4)"
   ]
  },
  {
   "cell_type": "code",
   "execution_count": null,
   "id": "94b18fcb",
   "metadata": {},
   "outputs": [],
   "source": [
    "2. Write a Python Program to Find Factorial of Number Using Recursion?"
   ]
  },
  {
   "cell_type": "code",
   "execution_count": 16,
   "id": "18943c1d",
   "metadata": {},
   "outputs": [],
   "source": [
    "def fector(b):\n",
    "    if (b==1 or b==0):\n",
    "        return 1\n",
    "    else :\n",
    "        return  (b*fector(b-1))\n",
    "    "
   ]
  },
  {
   "cell_type": "code",
   "execution_count": 22,
   "id": "f9db697d",
   "metadata": {},
   "outputs": [
    {
     "name": "stdout",
     "output_type": "stream",
     "text": [
      "Factorial of Number Using Recursion is  24\n"
     ]
    }
   ],
   "source": [
    "fector(4)\n",
    "print(\"Factorial of Number Using Recursion is \" ,fector(4))"
   ]
  },
  {
   "cell_type": "code",
   "execution_count": null,
   "id": "bb70afbd",
   "metadata": {},
   "outputs": [],
   "source": [
    "3. Write a Python Program to calculate your Body Mass Index?"
   ]
  },
  {
   "cell_type": "code",
   "execution_count": 25,
   "id": "b4ffec81",
   "metadata": {},
   "outputs": [
    {
     "name": "stdout",
     "output_type": "stream",
     "text": [
      "Please enter the weight of yours: 64\n",
      "please enter the height in cemtimeter 456\n"
     ]
    },
    {
     "data": {
      "text/plain": [
       "('Body mass index of your is ', 140.35087719298244)"
      ]
     },
     "execution_count": 25,
     "metadata": {},
     "output_type": "execute_result"
    }
   ],
   "source": [
    "def BMI(a,b):# define two veriable for weight and hight a is for weight and b for height in cm\n",
    "    try:\n",
    "        # converting cm hight into meter squre \n",
    "        c=b/1000\n",
    "    except Exception as e:\n",
    "        print(e)\n",
    "    try:\n",
    "        #calculating the body mass index formula \n",
    "        body_mass_index= a/c\n",
    "    except Exception as f:\n",
    "        print (f)\n",
    "    return \"Body mass index of your is \" ,body_mass_index \n",
    "a=float(input(\"Please enter the weight of yours: \"))\n",
    "b=float(input(\"please enter the height in cemtimeter \"))\n",
    "BMI(a,b)"
   ]
  },
  {
   "cell_type": "code",
   "execution_count": null,
   "id": "b5a9023f",
   "metadata": {},
   "outputs": [],
   "source": [
    "4. Write a Python Program to calculate the natural logarithm of any number?"
   ]
  },
  {
   "cell_type": "code",
   "execution_count": 31,
   "id": "249dc17d",
   "metadata": {},
   "outputs": [
    {
     "data": {
      "text/plain": [
       "5.389071729816501"
      ]
     },
     "execution_count": 31,
     "metadata": {},
     "output_type": "execute_result"
    }
   ],
   "source": [
    "import numpy as np\n",
    "\n",
    "def log(a):\n",
    "    try:\n",
    "        lg=np.log(a)\n",
    "    except Exception as e:\n",
    "        print (e)\n",
    "    try :\n",
    "        return lg\n",
    "    except Exception as f:\n",
    "        print(f)\n",
    "log(219)"
   ]
  },
  {
   "cell_type": "code",
   "execution_count": null,
   "id": "285b4ce2",
   "metadata": {},
   "outputs": [],
   "source": [
    "5. Write a Python Program for cube sum of first n natural numbers?"
   ]
  },
  {
   "cell_type": "code",
   "execution_count": 49,
   "id": "5abbb393",
   "metadata": {},
   "outputs": [
    {
     "name": "stdout",
     "output_type": "stream",
     "text": [
      "4\n"
     ]
    },
    {
     "data": {
      "text/plain": [
       "('cube of sum of natural number is ', 100)"
      ]
     },
     "execution_count": 49,
     "metadata": {},
     "output_type": "execute_result"
    }
   ],
   "source": [
    "def cube_of_n(n):\n",
    "    su=0\n",
    "    try :\n",
    "        for i in range (1,n+1):\n",
    "            cube=i**3\n",
    "            su=su+cube\n",
    "        return \"cube of sum of natural number is \" ,su\n",
    "    except Exception as h:\n",
    "            print (h)\n",
    "            \n",
    "n=int(input())\n",
    "cube_of_n(n)            "
   ]
  },
  {
   "cell_type": "code",
   "execution_count": null,
   "id": "cc4b9356",
   "metadata": {},
   "outputs": [],
   "source": []
  }
 ],
 "metadata": {
  "kernelspec": {
   "display_name": "Python 3 (ipykernel)",
   "language": "python",
   "name": "python3"
  },
  "language_info": {
   "codemirror_mode": {
    "name": "ipython",
    "version": 3
   },
   "file_extension": ".py",
   "mimetype": "text/x-python",
   "name": "python",
   "nbconvert_exporter": "python",
   "pygments_lexer": "ipython3",
   "version": "3.10.2"
  }
 },
 "nbformat": 4,
 "nbformat_minor": 5
}
