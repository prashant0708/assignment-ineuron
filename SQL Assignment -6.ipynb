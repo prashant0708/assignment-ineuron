{
 "cells": [
  {
   "cell_type": "markdown",
   "id": "3532316e",
   "metadata": {},
   "source": [
    "Q-1. Write an SQL query to print details of the Workers who have joined in Feb’2014."
   ]
  },
  {
   "cell_type": "code",
   "execution_count": null,
   "id": "d1c959b9",
   "metadata": {},
   "outputs": [],
   "source": [
    "Select * from worker where month(Joining date)=2 and year(joining date)=2014"
   ]
  },
  {
   "cell_type": "markdown",
   "id": "1fb3690e",
   "metadata": {},
   "source": [
    "Q-2. Write an SQL query to fetch duplicate records having matching data in some fields of a table."
   ]
  },
  {
   "cell_type": "code",
   "execution_count": null,
   "id": "90b5e789",
   "metadata": {},
   "outputs": [],
   "source": [
    "Select employee_id,count(*) from employee \n",
    "group by employee_id\n",
    "having count(*)>1"
   ]
  },
  {
   "cell_type": "markdown",
   "id": "65ab14d1",
   "metadata": {},
   "source": [
    "Q-3. How to remove duplicate rows from Employees table."
   ]
  },
  {
   "cell_type": "code",
   "execution_count": null,
   "id": "6abb9129",
   "metadata": {},
   "outputs": [],
   "source": [
    "WITH cte as ( Select Employeeid,EmployeeName, Depertment , count(*) FROM employees \n",
    "               groupby 1,2,3\n",
    "            having count(*)>1)\n",
    "\n",
    "delect from cte \n"
   ]
  }
 ],
 "metadata": {
  "kernelspec": {
   "display_name": "Python 3 (ipykernel)",
   "language": "python",
   "name": "python3"
  },
  "language_info": {
   "codemirror_mode": {
    "name": "ipython",
    "version": 3
   },
   "file_extension": ".py",
   "mimetype": "text/x-python",
   "name": "python",
   "nbconvert_exporter": "python",
   "pygments_lexer": "ipython3",
   "version": "3.10.9"
  }
 },
 "nbformat": 4,
 "nbformat_minor": 5
}
