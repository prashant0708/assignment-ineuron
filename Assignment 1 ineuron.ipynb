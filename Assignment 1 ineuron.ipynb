{
 "cells": [
  {
   "cell_type": "code",
   "execution_count": null,
   "id": "bb54ec69-3a1f-4389-ba9e-26dc0de2ff72",
   "metadata": {},
   "outputs": [],
   "source": [
    "1. In the below elements which of them are values or an expression? eg:- values can be\n",
    "integer or string and expressions will be mathematical operators.\n",
    "*\n",
    "'hello'\n",
    "-87.8\n",
    "-\n",
    "/\n",
    "+\n",
    "6\n"
   ]
  },
  {
   "cell_type": "code",
   "execution_count": null,
   "id": "f0eedc16-a63a-41c3-aeef-c51df37fa5be",
   "metadata": {},
   "outputs": [],
   "source": [
    "Ans -  value \n",
    "'hello'\n",
    "-87.8\n",
    "6\n",
    "\n",
    "expressions \n",
    "\n",
    "*\n",
    "-\n",
    "+\n",
    "/"
   ]
  },
  {
   "cell_type": "code",
   "execution_count": null,
   "id": "e9b87b4f-7dee-4d8c-a922-d13e24b1b2e2",
   "metadata": {},
   "outputs": [],
   "source": [
    "2. What is the difference between string and variable?"
   ]
  },
  {
   "cell_type": "code",
   "execution_count": null,
   "id": "87e67dd7-259c-47b6-b245-7f0081a075e3",
   "metadata": {},
   "outputs": [],
   "source": [
    "string is a combination of character which is immutable \n",
    "\n",
    "variable is temperory location where we assign the value or store the value \n",
    "\n",
    "example - \n",
    "\n",
    "a=\"Hello\" \n",
    "\n",
    "where a- variable \n",
    "      \"hello\"- string datatype."
   ]
  },
  {
   "cell_type": "code",
   "execution_count": null,
   "id": "9f60bb35-7b7b-4e30-b564-df519170230b",
   "metadata": {},
   "outputs": [],
   "source": [
    "3. Describe three different data types.\n",
    "\n",
    "three different basic  data types are following \n",
    "\n",
    "1. String \n",
    "2. Integer \n",
    "3. complex number \n",
    " \n"
   ]
  },
  {
   "cell_type": "code",
   "execution_count": null,
   "id": "751d6f6f-2835-48e0-a7d3-2ca833232416",
   "metadata": {},
   "outputs": [],
   "source": [
    "4. What is an expression made up of? What do all expressions do?\n",
    "\n",
    "An expression is made up  of values and operators. All expressions evaluate  to a single value.\n",
    "\n"
   ]
  },
  {
   "cell_type": "code",
   "execution_count": null,
   "id": "2b659997-b26d-43bd-b4e0-38c052c6643a",
   "metadata": {},
   "outputs": [],
   "source": [
    "5. This assignment statements, like spam = 10. What is the difference between an\n",
    "expression and a statement?\n",
    "\n",
    "An expression evaluates to a single value.\n",
    "Statements are everything that can make up a line (or several lines) of Python code.\n"
   ]
  },
  {
   "cell_type": "code",
   "execution_count": null,
   "id": "62faaebb-2cff-4bc2-8b34-bae0e4a0c3de",
   "metadata": {},
   "outputs": [],
   "source": [
    "6. After running the following code, what does the variable bacon contain?\n",
    "bacon = 22\n",
    "bacon + 1\n",
    "\n",
    "ans- bacon=23 "
   ]
  },
  {
   "cell_type": "code",
   "execution_count": 1,
   "id": "faaea77b-a8a2-420d-a931-62684c68b32b",
   "metadata": {},
   "outputs": [
    {
     "data": {
      "text/plain": [
       "23"
      ]
     },
     "execution_count": 1,
     "metadata": {},
     "output_type": "execute_result"
    }
   ],
   "source": [
    "bacon = 22\n",
    "bacon + 1"
   ]
  },
  {
   "cell_type": "code",
   "execution_count": null,
   "id": "3e67a4f9-8026-4cc5-a06d-acd261e7464f",
   "metadata": {},
   "outputs": [],
   "source": [
    "7. What should the values of the following two terms be?\n",
    "'spam' + 'spamspam'\n",
    "'spam' * 3\n",
    "\n",
    "Both expressions evaluate to the string 'spamspamspam'"
   ]
  },
  {
   "cell_type": "code",
   "execution_count": 2,
   "id": "2e0c42a1-b65d-449e-bd87-fe3b9d25b56e",
   "metadata": {},
   "outputs": [
    {
     "data": {
      "text/plain": [
       "'spamspamspam'"
      ]
     },
     "execution_count": 2,
     "metadata": {},
     "output_type": "execute_result"
    }
   ],
   "source": [
    "'spam' + 'spamspam'"
   ]
  },
  {
   "cell_type": "code",
   "execution_count": 3,
   "id": "cbdf9a50-de5b-426d-9870-45bd3b876437",
   "metadata": {},
   "outputs": [
    {
     "data": {
      "text/plain": [
       "'spamspamspam'"
      ]
     },
     "execution_count": 3,
     "metadata": {},
     "output_type": "execute_result"
    }
   ],
   "source": [
    "'spam' * 3"
   ]
  },
  {
   "cell_type": "code",
   "execution_count": null,
   "id": "0ecb68c1-fbce-48a1-8365-fff788bafda9",
   "metadata": {},
   "outputs": [],
   "source": [
    "8. Why is eggs a valid variable name while 100 is invalid?\n",
    "\n",
    "100 is a number and intgers , 100 is always hundreds and variable name can't begin with number .\n",
    "\n",
    " "
   ]
  },
  {
   "cell_type": "code",
   "execution_count": null,
   "id": "2a068af7-502a-4775-9b2f-e52d23244c47",
   "metadata": {},
   "outputs": [],
   "source": [
    "9. What three functions can be used to get the integer, floating-point number, or string\n",
    "version of a value?\n",
    "\n",
    "The int(), float(), and str() functions will evaluate to the integer, floating-point number, \n",
    "and string versions of the value passed to them."
   ]
  },
  {
   "cell_type": "code",
   "execution_count": 11,
   "id": "53d73108-07b4-4e0c-8ee4-94b832e0fb50",
   "metadata": {},
   "outputs": [
    {
     "name": "stdin",
     "output_type": "stream",
     "text": [
      " 10\n"
     ]
    }
   ],
   "source": [
    "a=int(input())"
   ]
  },
  {
   "cell_type": "code",
   "execution_count": 12,
   "id": "ad0308ca-d81c-420a-9ad5-6312d6d807ae",
   "metadata": {},
   "outputs": [
    {
     "data": {
      "text/plain": [
       "int"
      ]
     },
     "execution_count": 12,
     "metadata": {},
     "output_type": "execute_result"
    }
   ],
   "source": [
    "type(a)"
   ]
  },
  {
   "cell_type": "code",
   "execution_count": 13,
   "id": "41e8da6d-4f57-4e0b-815e-4c7476d2158f",
   "metadata": {},
   "outputs": [
    {
     "name": "stdin",
     "output_type": "stream",
     "text": [
      " 34.56\n"
     ]
    },
    {
     "name": "stdout",
     "output_type": "stream",
     "text": [
      "34.56\n"
     ]
    },
    {
     "data": {
      "text/plain": [
       "float"
      ]
     },
     "execution_count": 13,
     "metadata": {},
     "output_type": "execute_result"
    }
   ],
   "source": [
    "b=float(input())\n",
    "print(b)\n",
    "type (b)"
   ]
  },
  {
   "cell_type": "code",
   "execution_count": 14,
   "id": "bba04cbd-8ea0-42ab-8ebd-a5f5e7ce6cc8",
   "metadata": {},
   "outputs": [
    {
     "name": "stdin",
     "output_type": "stream",
     "text": [
      " dfd\n"
     ]
    },
    {
     "data": {
      "text/plain": [
       "str"
      ]
     },
     "execution_count": 14,
     "metadata": {},
     "output_type": "execute_result"
    }
   ],
   "source": [
    "c=input()\n",
    "type(c)"
   ]
  },
  {
   "cell_type": "code",
   "execution_count": null,
   "id": "e9239814-3b09-4cc5-ad90-ec28edc1e148",
   "metadata": {},
   "outputs": [],
   "source": []
  },
  {
   "cell_type": "code",
   "execution_count": null,
   "id": "771b4add-4bb5-4f42-b99a-6f1b15f0e4d6",
   "metadata": {},
   "outputs": [],
   "source": [
    "10. Why does this expression cause an error? How can you fix it?\n",
    "\n",
    "'I have eaten' + 99 + ' burritos'\n",
    "\n",
    "ans- string can not add with integer , to add above program , we have to change 99 into string ."
   ]
  },
  {
   "cell_type": "code",
   "execution_count": 5,
   "id": "ba8b1c95-6356-45ee-9a74-280bcf23bc91",
   "metadata": {},
   "outputs": [
    {
     "data": {
      "text/plain": [
       "'I have eaten  99  burritos '"
      ]
     },
     "execution_count": 5,
     "metadata": {},
     "output_type": "execute_result"
    }
   ],
   "source": [
    "'I have eaten ' +' 99 '+' burritos '"
   ]
  },
  {
   "cell_type": "code",
   "execution_count": null,
   "id": "6a011f7e-12f4-44c3-9242-3b3eb97781ee",
   "metadata": {},
   "outputs": [],
   "source": []
  }
 ],
 "metadata": {
  "kernelspec": {
   "display_name": "Python 3 (ipykernel)",
   "language": "python",
   "name": "python3"
  },
  "language_info": {
   "codemirror_mode": {
    "name": "ipython",
    "version": 3
   },
   "file_extension": ".py",
   "mimetype": "text/x-python",
   "name": "python",
   "nbconvert_exporter": "python",
   "pygments_lexer": "ipython3",
   "version": "3.10.2"
  }
 },
 "nbformat": 4,
 "nbformat_minor": 5
}
