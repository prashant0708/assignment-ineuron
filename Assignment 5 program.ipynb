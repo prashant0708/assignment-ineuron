{
 "cells": [
  {
   "cell_type": "code",
   "execution_count": null,
   "id": "84ac5eb8",
   "metadata": {},
   "outputs": [],
   "source": [
    "1. Write a Python Program to Find LCM?"
   ]
  },
  {
   "cell_type": "code",
   "execution_count": 22,
   "id": "e579dea4",
   "metadata": {},
   "outputs": [
    {
     "name": "stdout",
     "output_type": "stream",
     "text": [
      "60\n"
     ]
    }
   ],
   "source": [
    "import math\n",
    "x=math.lcm(2,3,4,5,6)\n",
    "print (x)"
   ]
  },
  {
   "cell_type": "code",
   "execution_count": null,
   "id": "e49ee490",
   "metadata": {},
   "outputs": [],
   "source": [
    "2. Write a Python Program to Find HCF?"
   ]
  },
  {
   "cell_type": "code",
   "execution_count": null,
   "id": "3cc2f163",
   "metadata": {},
   "outputs": [],
   "source": [
    "import math\n",
    "x=math.gcd(5,25)\n",
    "print (x)"
   ]
  },
  {
   "cell_type": "code",
   "execution_count": null,
   "id": "ad856adf",
   "metadata": {},
   "outputs": [],
   "source": [
    "3. Write a Python Program to Convert Decimal to Binary, Octal and Hexadecimal?"
   ]
  },
  {
   "cell_type": "code",
   "execution_count": 2,
   "id": "13f2295b",
   "metadata": {},
   "outputs": [
    {
     "name": "stdout",
     "output_type": "stream",
     "text": [
      "2034\n",
      "Hexadecimal number of 2034 is 0x7f2\n",
      "Octal number of 2034  is 0o3762\n",
      "Binary number of 2034 is 0b11111110010\n"
     ]
    }
   ],
   "source": [
    "p=int(input())\n",
    "q=hex(p)\n",
    "r=oct(p)\n",
    "s=bin(p)\n",
    "print(\"Hexadecimal number of\",p, \"is\", q)\n",
    "print(\"Octal number of\" ,p, \" is\", r)\n",
    "print(\"Binary number of\"  ,p, \"is\", s)"
   ]
  },
  {
   "cell_type": "code",
   "execution_count": null,
   "id": "181f7dde",
   "metadata": {},
   "outputs": [],
   "source": [
    "4. Write a Python Program To Find ASCII value of a character?"
   ]
  },
  {
   "cell_type": "code",
   "execution_count": 6,
   "id": "af07337f",
   "metadata": {},
   "outputs": [
    {
     "name": "stdout",
     "output_type": "stream",
     "text": [
      "I\n",
      "The ASCII code of I is 73\n"
     ]
    }
   ],
   "source": [
    "c=input()\n",
    "g=ord(c)\n",
    "print(\"The ASCII code of\" , c, \"is\",g)\n"
   ]
  },
  {
   "cell_type": "code",
   "execution_count": null,
   "id": "399f3a09",
   "metadata": {},
   "outputs": [],
   "source": [
    "5. Write a Python Program to Make a Simple Calculator with 4 basic mathematical operations?"
   ]
  },
  {
   "cell_type": "code",
   "execution_count": 15,
   "id": "7ce26dd9",
   "metadata": {},
   "outputs": [],
   "source": [
    "class mathematical_operations:\n",
    "    def __init__(self,a,b):\n",
    "        self.a=a\n",
    "        self.b=b\n",
    "    def addition(self):\n",
    "        result=self.a+self.b\n",
    "        return \"The addition of\" ,self.a, \"and\", self.b ,\"is\",  result\n",
    "    def subtration(self):\n",
    "        if self.a>self.b:\n",
    "            result1=self.a-self.b\n",
    "            return \"The subtraction of\" ,self.a, \"and\", self.b ,\"is\",  result1\n",
    "        else :\n",
    "            print (\"enter\" ,self.a ,\"value is smaller than\",self.b)\n",
    "    def multiplication (self):\n",
    "        mul= self.a*self.b\n",
    "        return \"The multiplication of\" ,self.a, \"and\", self.b ,\"is\",  mul\n",
    "    def div(self):\n",
    "        try:\n",
    "                dive=self.a/self.b\n",
    "                return \"The Division of\" ,self.a, \"and\", self.b ,\"is\",  dive\n",
    "        except Exception as e:\n",
    "            print(e)"
   ]
  },
  {
   "cell_type": "code",
   "execution_count": 16,
   "id": "824b62bb",
   "metadata": {},
   "outputs": [],
   "source": [
    "a=mathematical_operations(20,2)"
   ]
  },
  {
   "cell_type": "code",
   "execution_count": 17,
   "id": "29752f69",
   "metadata": {},
   "outputs": [
    {
     "data": {
      "text/plain": [
       "('The addition of', 20, 'and', 2, 'is', 22)"
      ]
     },
     "execution_count": 17,
     "metadata": {},
     "output_type": "execute_result"
    }
   ],
   "source": [
    "a.addition()"
   ]
  },
  {
   "cell_type": "code",
   "execution_count": 18,
   "id": "6a162c91",
   "metadata": {},
   "outputs": [
    {
     "data": {
      "text/plain": [
       "('The subtraction of', 20, 'and', 2, 'is', 18)"
      ]
     },
     "execution_count": 18,
     "metadata": {},
     "output_type": "execute_result"
    }
   ],
   "source": [
    "a.subtration()"
   ]
  },
  {
   "cell_type": "code",
   "execution_count": 19,
   "id": "99c3caa7",
   "metadata": {},
   "outputs": [
    {
     "data": {
      "text/plain": [
       "('The multiplication of', 20, 'and', 2, 'is', 40)"
      ]
     },
     "execution_count": 19,
     "metadata": {},
     "output_type": "execute_result"
    }
   ],
   "source": [
    "a.multiplication()"
   ]
  },
  {
   "cell_type": "code",
   "execution_count": 20,
   "id": "f807db0a",
   "metadata": {},
   "outputs": [
    {
     "data": {
      "text/plain": [
       "('The Division of', 20, 'and', 2, 'is', 10.0)"
      ]
     },
     "execution_count": 20,
     "metadata": {},
     "output_type": "execute_result"
    }
   ],
   "source": [
    "a.div()"
   ]
  },
  {
   "cell_type": "code",
   "execution_count": null,
   "id": "41fd7f0a",
   "metadata": {},
   "outputs": [],
   "source": []
  }
 ],
 "metadata": {
  "kernelspec": {
   "display_name": "Python 3 (ipykernel)",
   "language": "python",
   "name": "python3"
  },
  "language_info": {
   "codemirror_mode": {
    "name": "ipython",
    "version": 3
   },
   "file_extension": ".py",
   "mimetype": "text/x-python",
   "name": "python",
   "nbconvert_exporter": "python",
   "pygments_lexer": "ipython3",
   "version": "3.10.2"
  }
 },
 "nbformat": 4,
 "nbformat_minor": 5
}
