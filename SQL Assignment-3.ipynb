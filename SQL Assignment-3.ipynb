{
 "cells": [
  {
   "cell_type": "markdown",
   "id": "a7d67e32",
   "metadata": {},
   "source": [
    "Q-1. Write an SQL query to print the FIRST_NAME from Worker table after removing white spaces from the right side."
   ]
  },
  {
   "cell_type": "markdown",
   "id": "fdc35ae9",
   "metadata": {},
   "source": [
    "Select RTRIM(FIRST_NAME) AS First_Name from worker;"
   ]
  },
  {
   "cell_type": "markdown",
   "id": "686cb7f1",
   "metadata": {},
   "source": [
    "Q-2. Write an SQL query that fetches the unique values of DEPARTMENT from Worker table and prints its length."
   ]
  },
  {
   "cell_type": "code",
   "execution_count": null,
   "id": "2b21f056",
   "metadata": {},
   "outputs": [],
   "source": [
    "Select distinct Department , length(Department) from worker ;"
   ]
  },
  {
   "cell_type": "markdown",
   "id": "3063a927",
   "metadata": {},
   "source": [
    "Q-3. Write an SQL query to fetch nth max salaries from a table."
   ]
  },
  {
   "cell_type": "code",
   "execution_count": null,
   "id": "d09a583a",
   "metadata": {},
   "outputs": [],
   "source": [
    "select max(salaries) from worker;"
   ]
  }
 ],
 "metadata": {
  "kernelspec": {
   "display_name": "Python 3 (ipykernel)",
   "language": "python",
   "name": "python3"
  },
  "language_info": {
   "codemirror_mode": {
    "name": "ipython",
    "version": 3
   },
   "file_extension": ".py",
   "mimetype": "text/x-python",
   "name": "python",
   "nbconvert_exporter": "python",
   "pygments_lexer": "ipython3",
   "version": "3.10.9"
  }
 },
 "nbformat": 4,
 "nbformat_minor": 5
}
