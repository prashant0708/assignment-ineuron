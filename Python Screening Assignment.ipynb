{
 "cells": [
  {
   "cell_type": "markdown",
   "id": "474f84d4",
   "metadata": {},
   "source": [
    "1. Create a function in python to read the text file and replace specific content of the file.\n",
    "\n"
   ]
  },
  {
   "cell_type": "code",
   "execution_count": 58,
   "id": "3440a441",
   "metadata": {},
   "outputs": [],
   "source": [
    "\n",
    "def createfile(file_name):\n",
    "    with open (file_name,\"w\") as f:\n",
    "        f.write(\"This is a placement assignment\")\n",
    "        f.close()\n",
    "def read_replace(file):\n",
    "    file=open(file,'r')\n",
    "    file=file.read()\n",
    "    file=file.replace('placement','screening')\n",
    "    print (file)"
   ]
  },
  {
   "cell_type": "code",
   "execution_count": 56,
   "id": "0136fd0f",
   "metadata": {},
   "outputs": [],
   "source": [
    "createfile(\"example.txt\")"
   ]
  },
  {
   "cell_type": "code",
   "execution_count": 57,
   "id": "8c7fa650",
   "metadata": {},
   "outputs": [
    {
     "name": "stdout",
     "output_type": "stream",
     "text": [
      "This is a screening assignment\n"
     ]
    }
   ],
   "source": [
    "read_replace(\"example.txt\")"
   ]
  },
  {
   "cell_type": "markdown",
   "id": "9d31a465",
   "metadata": {},
   "source": [
    "# Demonstrate use of abstract class, multiple inheritance and decorator in python using examples."
   ]
  },
  {
   "cell_type": "markdown",
   "id": "9afae288",
   "metadata": {},
   "source": [
    "Abstract class use as blueprint for other chile class  , it can't work as object .\n",
    "it is important for the child class to follow the method created within abstract class "
   ]
  },
  {
   "cell_type": "markdown",
   "id": "1550f406",
   "metadata": {},
   "source": [
    " Multiple inheritance - child class inharitage some method of parant class and parant class inharitage some method of garnd parants class \n",
    "called multiple inheritance . Mutliple imheritance used to increase the re usablity of the code . "
   ]
  },
  {
   "cell_type": "markdown",
   "id": "07ae40f9",
   "metadata": {},
   "source": [
    " decorator- It is very favourable tools for the programer it allow the programer to change the behaviours or class of the function ."
   ]
  },
  {
   "cell_type": "markdown",
   "id": "7f7478b7",
   "metadata": {},
   "source": [
    "# example of abstract"
   ]
  },
  {
   "cell_type": "code",
   "execution_count": 21,
   "id": "8e7153cd",
   "metadata": {},
   "outputs": [],
   "source": [
    "from abc import ABC, abstractmethod\n",
    "\n",
    "class math(ABC):\n",
    "    @abstractmethod\n",
    "    def area(self):\n",
    "        pass\n",
    "class area_rectangle(math):\n",
    "    def area(self,a,b):\n",
    "        self.a=a\n",
    "        self.b=b\n",
    "        print (self.a*self.b)\n",
    "        \n",
    "    \n",
    "class area_tringle(math):\n",
    "    def area(self,b,h):\n",
    "        self.b=b\n",
    "        self.h=h\n",
    "        result=0.5*self.b*self.h\n",
    "        print (result)"
   ]
  },
  {
   "cell_type": "code",
   "execution_count": 4,
   "id": "72c8b8ff",
   "metadata": {},
   "outputs": [],
   "source": [
    "m=area_rectangle()"
   ]
  },
  {
   "cell_type": "code",
   "execution_count": 5,
   "id": "13b4e6eb",
   "metadata": {},
   "outputs": [
    {
     "name": "stdout",
     "output_type": "stream",
     "text": [
      "20\n"
     ]
    }
   ],
   "source": [
    "m.area(4,5)"
   ]
  },
  {
   "cell_type": "code",
   "execution_count": 23,
   "id": "fe5737e5",
   "metadata": {},
   "outputs": [],
   "source": [
    "tringle=area_tringle()"
   ]
  },
  {
   "cell_type": "code",
   "execution_count": 24,
   "id": "ac3b91b6",
   "metadata": {},
   "outputs": [
    {
     "name": "stdout",
     "output_type": "stream",
     "text": [
      "25.0\n"
     ]
    }
   ],
   "source": [
    "tringle.area(10,5)"
   ]
  },
  {
   "cell_type": "markdown",
   "id": "36da5fea",
   "metadata": {},
   "source": [
    "# Example of multiple inheritance"
   ]
  },
  {
   "cell_type": "code",
   "execution_count": 29,
   "id": "c9dfded7",
   "metadata": {},
   "outputs": [],
   "source": [
    "class multiplication:\n",
    "    def __init__(self,a,b):\n",
    "        self.a=a\n",
    "        self.b=b\n",
    "    def multi(self):\n",
    "        result = self.a*self.b\n",
    "        return result\n",
    "    def div (self):\n",
    "        result =self.a/self.b\n",
    "        return result \n",
    "class child (multiplication):\n",
    "    def add(self):\n",
    "        result=self.a+self.b\n",
    "        return result"
   ]
  },
  {
   "cell_type": "code",
   "execution_count": 30,
   "id": "f5e4bc30",
   "metadata": {},
   "outputs": [],
   "source": [
    "t=multiplication(4,5)"
   ]
  },
  {
   "cell_type": "code",
   "execution_count": 32,
   "id": "94d658ce",
   "metadata": {},
   "outputs": [
    {
     "data": {
      "text/plain": [
       "0.8"
      ]
     },
     "execution_count": 32,
     "metadata": {},
     "output_type": "execute_result"
    }
   ],
   "source": [
    "t.div()"
   ]
  },
  {
   "cell_type": "code",
   "execution_count": 33,
   "id": "6934c4ef",
   "metadata": {},
   "outputs": [
    {
     "data": {
      "text/plain": [
       "20"
      ]
     },
     "execution_count": 33,
     "metadata": {},
     "output_type": "execute_result"
    }
   ],
   "source": [
    "t.multi()\n"
   ]
  },
  {
   "cell_type": "code",
   "execution_count": 35,
   "id": "b20f514d",
   "metadata": {},
   "outputs": [],
   "source": [
    "r=child(5,8)"
   ]
  },
  {
   "cell_type": "code",
   "execution_count": 36,
   "id": "ddfc14e3",
   "metadata": {},
   "outputs": [
    {
     "data": {
      "text/plain": [
       "0.625"
      ]
     },
     "execution_count": 36,
     "metadata": {},
     "output_type": "execute_result"
    }
   ],
   "source": [
    "r.div()"
   ]
  },
  {
   "cell_type": "code",
   "execution_count": 37,
   "id": "847bd9e7",
   "metadata": {},
   "outputs": [
    {
     "data": {
      "text/plain": [
       "13"
      ]
     },
     "execution_count": 37,
     "metadata": {},
     "output_type": "execute_result"
    }
   ],
   "source": [
    "r.add()"
   ]
  },
  {
   "cell_type": "markdown",
   "id": "e92c8a2f",
   "metadata": {},
   "source": [
    "Example of decorator "
   ]
  },
  {
   "cell_type": "code",
   "execution_count": 42,
   "id": "99365af0",
   "metadata": {},
   "outputs": [],
   "source": [
    "def addition (a,b):\n",
    "    result= a+b\n",
    "    return result \n",
    "add=addition(10,20)"
   ]
  },
  {
   "cell_type": "code",
   "execution_count": 44,
   "id": "5d250dfa",
   "metadata": {},
   "outputs": [
    {
     "name": "stdout",
     "output_type": "stream",
     "text": [
      "30\n"
     ]
    }
   ],
   "source": [
    "print (add)"
   ]
  },
  {
   "cell_type": "code",
   "execution_count": 45,
   "id": "7ef1dc01",
   "metadata": {},
   "outputs": [
    {
     "data": {
      "text/plain": [
       "30"
      ]
     },
     "execution_count": 45,
     "metadata": {},
     "output_type": "execute_result"
    }
   ],
   "source": [
    "add"
   ]
  },
  {
   "cell_type": "code",
   "execution_count": null,
   "id": "017bd5b5",
   "metadata": {},
   "outputs": [],
   "source": []
  }
 ],
 "metadata": {
  "kernelspec": {
   "display_name": "Python 3 (ipykernel)",
   "language": "python",
   "name": "python3"
  },
  "language_info": {
   "codemirror_mode": {
    "name": "ipython",
    "version": 3
   },
   "file_extension": ".py",
   "mimetype": "text/x-python",
   "name": "python",
   "nbconvert_exporter": "python",
   "pygments_lexer": "ipython3",
   "version": "3.9.7"
  }
 },
 "nbformat": 4,
 "nbformat_minor": 5
}
