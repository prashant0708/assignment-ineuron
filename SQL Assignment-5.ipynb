{
 "cells": [
  {
   "cell_type": "markdown",
   "id": "b422dd10",
   "metadata": {},
   "source": [
    "Q-1. Write an SQL query to print details of workers excluding first names, “Vipul” and “Satish” from Worker table."
   ]
  },
  {
   "cell_type": "code",
   "execution_count": null,
   "id": "f83072ae",
   "metadata": {},
   "outputs": [],
   "source": [
    "SELECT * FROM WORKER \n",
    "WHERE first_name <> “Vipul” and first_name <> “Satish”"
   ]
  },
  {
   "cell_type": "markdown",
   "id": "a5b5e902",
   "metadata": {},
   "source": [
    "Q-2. Write an SQL query to print details of the Workers whose FIRST_NAME ends with ‘h’ and contains six alphabets."
   ]
  },
  {
   "cell_type": "code",
   "execution_count": null,
   "id": "d4e20e81",
   "metadata": {},
   "outputs": [],
   "source": [
    "Select * from worker \n",
    "where first_name like '%h' and length(first_name)=6"
   ]
  },
  {
   "cell_type": "markdown",
   "id": "b6f8135a",
   "metadata": {},
   "source": [
    "Q-3. Write a query to validate Email of Employee."
   ]
  },
  {
   "cell_type": "code",
   "execution_count": null,
   "id": "a2aae14d",
   "metadata": {},
   "outputs": [],
   "source": [
    "Select * from employee\n",
    "where email like '%@%.com';"
   ]
  }
 ],
 "metadata": {
  "kernelspec": {
   "display_name": "Python 3 (ipykernel)",
   "language": "python",
   "name": "python3"
  },
  "language_info": {
   "codemirror_mode": {
    "name": "ipython",
    "version": 3
   },
   "file_extension": ".py",
   "mimetype": "text/x-python",
   "name": "python",
   "nbconvert_exporter": "python",
   "pygments_lexer": "ipython3",
   "version": "3.10.9"
  }
 },
 "nbformat": 4,
 "nbformat_minor": 5
}
